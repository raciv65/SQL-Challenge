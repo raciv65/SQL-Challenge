{
 "cells": [
  {
   "cell_type": "markdown",
   "metadata": {},
   "source": [
    "## Data Base with jupyter notebooke"
   ]
  },
  {
   "cell_type": "code",
   "execution_count": 1,
   "metadata": {},
   "outputs": [],
   "source": [
    "#Set up dependencies\n",
    "import sqlalchemy\n",
    "import psycopg2\n",
    "import pandas as pd\n",
    "import matplotlib.pyplot as plt\n",
    "from sqlalchemy import create_engine\n",
    "from sqlalchemy import inspect\n",
    "from config import connection_string\n",
    "\n",
    "\n"
   ]
  },
  {
   "cell_type": "code",
   "execution_count": 2,
   "metadata": {},
   "outputs": [],
   "source": [
    "# Set up the connection with data base\n",
    "engine=create_engine(f'postgresql+psycopg2://{connection_string}')\n",
    "connection=engine.connect()\n",
    "\n"
   ]
  },
  {
   "cell_type": "code",
   "execution_count": 3,
   "metadata": {},
   "outputs": [],
   "source": [
    "#From the Data Base select employees and salary to create a histogram graph\n",
    "dataSalary=pd.read_sql(\n",
    "    \"\"\"SELECT Employees.Employee_Id, Employees.last_name, Employees.first_name, Employees.gender,\n",
    "    Salaries.Salary\n",
    "    FROM Employees\n",
    "    INNER JOIN Salaries ON\n",
    "    Employees.Employee_Id = Salaries.Employee_Id\"\"\",\n",
    "    engine)\n",
    "\n"
   ]
  },
  {
   "cell_type": "code",
   "execution_count": 4,
   "metadata": {
    "scrolled": true
   },
   "outputs": [
    {
     "data": {
      "image/png": "[encoded data removed]",
      "text/plain": [
       "<Figure size 432x288 with 1 Axes>"
      ]
     },
     "metadata": {
      "needs_background": "light"
     },
     "output_type": "display_data"
    }
   ],
   "source": [
    "#Creating plot\n",
    "plt.hist(dataSalary['salary'])\n",
    "plt.title('Histogram of Salary', fontsize='xx-large')\n",
    "plt.ylabel('Number of employees', fontsize='large')\n",
    "plt.xlabel('Salary', fontsize='large')\n",
    "plt.show()"
   ]
  },
  {
   "cell_type": "code",
   "execution_count": 5,
   "metadata": {},
   "outputs": [],
   "source": [
    "#From the Data Base select salary bu title and estimate averange by title\n",
    "dataTitleSalary=pd.read_sql(\"\"\"SELECT\n",
    "            Titles.title,\n",
    "            ROUND(AVG(Salaries.Salary),2) as Averange\n",
    "        FROM Titles\n",
    "        INNER JOIN Salaries ON\n",
    "            Titles.Employee_Id = Salaries.Employee_Id\n",
    "        GROUP BY Titles.title\"\"\"\n",
    "    ,engine)"
   ]
  },
  {
   "cell_type": "code",
   "execution_count": 6,
   "metadata": {},
   "outputs": [
    {
     "data": {
      "image/png": "[encoded data removed]",
      "text/plain": [
       "<Figure size 432x288 with 1 Axes>"
      ]
     },
     "metadata": {
      "needs_background": "light"
     },
     "output_type": "display_data"
    }
   ],
   "source": [
    "#Creating plot\n",
    "x=dataTitleSalary['averange']                                \n",
    "xlabels=dataTitleSalary['title']\n",
    "plt.bar(xlabels, x)\n",
    "plt.title('Average Salary By Title', fontsize='xx-large')\n",
    "plt.ylabel('Salary', fontsize='large')\n",
    "plt.xlabel('Salary', fontsize='large')\n",
    "plt.xticks(rotation='vertical')\n",
    "plt.show()"
   ]
  },
  {
   "cell_type": "markdown",
   "metadata": {},
   "source": [
    "## Epilogue"
   ]
  },
  {
   "cell_type": "code",
   "execution_count": 7,
   "metadata": {},
   "outputs": [
    {
     "data": {
      "text/html": [
       "<div>\n",
       "<style scoped>\n",
       "    .dataframe tbody tr th:only-of-type {\n",
       "        vertical-align: middle;\n",
       "    }\n",
       "\n",
       "    .dataframe tbody tr th {\n",
       "        vertical-align: top;\n",
       "    }\n",
       "\n",
       "    .dataframe thead th {\n",
       "        text-align: right;\n",
       "    }\n",
       "</style>\n",
       "<table border=\"1\" class=\"dataframe\">\n",
       "  <thead>\n",
       "    <tr style=\"text-align: right;\">\n",
       "      <th></th>\n",
       "      <th>employee_id</th>\n",
       "      <th>last_name</th>\n",
       "      <th>first_name</th>\n",
       "      <th>from_date</th>\n",
       "      <th>to_date</th>\n",
       "      <th>department_name</th>\n",
       "      <th>title</th>\n",
       "    </tr>\n",
       "  </thead>\n",
       "  <tbody>\n",
       "    <tr>\n",
       "      <th>0</th>\n",
       "      <td>499942</td>\n",
       "      <td>Foolsday</td>\n",
       "      <td>April</td>\n",
       "      <td>1998-03-28</td>\n",
       "      <td>9999-01-01</td>\n",
       "      <td>Development</td>\n",
       "      <td>Technique Leader</td>\n",
       "    </tr>\n",
       "  </tbody>\n",
       "</table>\n",
       "</div>"
      ],
      "text/plain": [
       "   employee_id last_name first_name   from_date     to_date department_name  \\\n",
       "0       499942  Foolsday      April  1998-03-28  9999-01-01     Development   \n",
       "\n",
       "              title  \n",
       "0  Technique Leader  "
      ]
     },
     "execution_count": 7,
     "metadata": {},
     "output_type": "execute_result"
    }
   ],
   "source": [
    " #Epilogue Employer_number='499942'\n",
    "target='499942' #in the case of change\n",
    "epilogue=pd.read_sql(f\"\"\"SELECT \n",
    "    Department_Employees.Employee_Id,\n",
    "    Employees.last_name,\n",
    "    Employees.first_name,\n",
    "    Department_Employees.from_date,\n",
    "    Department_Employees.to_date,\n",
    "    Department.department_name,\n",
    "    Titles.title\n",
    "    FROM Department_Employees\n",
    "    INNER JOIN Department  ON\n",
    "    Department_Employees.Department_Id=Department.Department_Id\n",
    "    INNER JOIN Employees ON\n",
    "    Department_Employees.Employee_Id=Employees.Employee_Id\n",
    "    INNER JOIN Titles ON\n",
    "    Department_Employees.Employee_Id=Titles.Employee_Id\n",
    "    WHERE Employees.Employee_Id={target}\"\"\",\n",
    "\n",
    "                     engine)\n",
    "epilogue"
   ]
  },
  {
   "cell_type": "code",
   "execution_count": null,
   "metadata": {},
   "outputs": [],
   "source": []
  }
 ],
 "metadata": {
  "kernelspec": {
   "display_name": "Python 3",
   "language": "python",
   "name": "python3"
  },
  "language_info": {
   "codemirror_mode": {
    "name": "ipython",
    "version": 3
   },
   "file_extension": ".py",
   "mimetype": "text/x-python",
   "name": "python",
   "nbconvert_exporter": "python",
   "pygments_lexer": "ipython3",
   "version": "3.8.3"
  }
 },
 "nbformat": 4,
 "nbformat_minor": 4
}
